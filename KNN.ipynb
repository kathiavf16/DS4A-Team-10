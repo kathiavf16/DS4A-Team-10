{
 "cells": [
  {
   "cell_type": "code",
   "execution_count": 243,
   "metadata": {},
   "outputs": [],
   "source": [
    "import pandas as pd\n",
    "import numpy as np\n",
    "from sklearn.model_selection import train_test_split\n",
    "from sklearn.preprocessing import StandardScaler\n",
    "from sklearn.neighbors import KNeighborsClassifier\n",
    "from sklearn.metrics import confusion_matrix\n",
    "from sklearn.metrics import f1_score\n",
    "from sklearn.metrics import accuracy_score\n",
    "from sklearn import preprocessing\n",
    "from sklearn import utils\n",
    "import matplotlib.pyplot as plt\n",
    "import seaborn as sns\n",
    "import matplotlib.pyplot as plt"
   ]
  },
  {
   "cell_type": "markdown",
   "metadata": {},
   "source": [
    "Import the Dataset"
   ]
  },
  {
   "cell_type": "code",
   "execution_count": 244,
   "metadata": {},
   "outputs": [],
   "source": [
    "dataset = pd.read_csv('all_features_by_state_test.csv')"
   ]
  },
  {
   "cell_type": "markdown",
   "metadata": {},
   "source": [
    "See the length and top 5 rows"
   ]
  },
  {
   "cell_type": "code",
   "execution_count": 245,
   "metadata": {
    "scrolled": true
   },
   "outputs": [
    {
     "name": "stdout",
     "output_type": "stream",
     "text": [
      "             Unnamed: 0  CensusTract State_x  HUNVFlag_x  LILATracts_1And10_x  \\\n",
      "0  1400000US02013000100   2013000100  Alaska           1                    1   \n",
      "1  1400000US02016000100   2016000100  Alaska           0                    1   \n",
      "2  1400000US02016000200   2016000200  Alaska           0                    0   \n",
      "3  1400000US02020000101   2020000101  Alaska           0                    0   \n",
      "4  1400000US02020000102   2020000102  Alaska           0                    0   \n",
      "\n",
      "   LILATracts_halfAnd10_x  LILATracts_Vehicle_x  LATracts1_y  LATracts10_y  \\\n",
      "0                       1                     1            1             1   \n",
      "1                       1                     1            1             1   \n",
      "2                       0                     0            1             0   \n",
      "3                       0                     0            1             0   \n",
      "4                       0                     0            1             0   \n",
      "\n",
      "   LATracts20_y  ...  B19131_003E_diff  B19126_001E_diff  B03002_009E_diff  \\\n",
      "0             1  ...                72            2663.0               -46   \n",
      "1             1  ...                22           -1354.0               -35   \n",
      "2             0  ...               152            4327.0               117   \n",
      "3             0  ...               -13               NaN               359   \n",
      "4             0  ...                57            9355.0               117   \n",
      "\n",
      "   B03002_010E_diff  B03002_011E_diff  entropy_diff  entropy_index10_y  \\\n",
      "0                 0               -46     -0.212302           1.436035   \n",
      "1                 0               -35      0.199189           1.629681   \n",
      "2                 0               117     -0.160704           1.476288   \n",
      "3                 0               359     -0.106327           0.584863   \n",
      "4                 0               117      0.018110           0.800645   \n",
      "\n",
      "   entropy_index15_x  HUNVFlag_y  HUNVFlag_diff  \n",
      "0           1.648337           1              0  \n",
      "1           1.430492           0              0  \n",
      "2           1.636992           0              0  \n",
      "3           0.691189           0              0  \n",
      "4           0.782535           1             -1  \n",
      "\n",
      "[5 rows x 134 columns]\n"
     ]
    }
   ],
   "source": [
    "len(dataset)\n",
    "print(dataset.head())"
   ]
  },
  {
   "cell_type": "markdown",
   "metadata": {},
   "source": [
    "Drop the row that is \"Unnamed\""
   ]
  },
  {
   "cell_type": "code",
   "execution_count": 246,
   "metadata": {},
   "outputs": [],
   "source": [
    "clean_dataset = dataset.drop(columns = ['Unnamed: 0','State_x','NAME2010','NAME2015','entropy_diff'])"
   ]
  },
  {
   "cell_type": "code",
   "execution_count": 247,
   "metadata": {},
   "outputs": [
    {
     "data": {
      "text/plain": [
       "(64573, 129)"
      ]
     },
     "execution_count": 247,
     "metadata": {},
     "output_type": "execute_result"
    }
   ],
   "source": [
    "clean_dataset.shape"
   ]
  },
  {
   "cell_type": "code",
   "execution_count": 248,
   "metadata": {
    "scrolled": true
   },
   "outputs": [
    {
     "data": {
      "text/html": [
       "<div>\n",
       "<style scoped>\n",
       "    .dataframe tbody tr th:only-of-type {\n",
       "        vertical-align: middle;\n",
       "    }\n",
       "\n",
       "    .dataframe tbody tr th {\n",
       "        vertical-align: top;\n",
       "    }\n",
       "\n",
       "    .dataframe thead th {\n",
       "        text-align: right;\n",
       "    }\n",
       "</style>\n",
       "<table border=\"1\" class=\"dataframe\">\n",
       "  <thead>\n",
       "    <tr style=\"text-align: right;\">\n",
       "      <th></th>\n",
       "      <th>CensusTract</th>\n",
       "      <th>HUNVFlag_x</th>\n",
       "      <th>LILATracts_1And10_x</th>\n",
       "      <th>LILATracts_halfAnd10_x</th>\n",
       "      <th>LILATracts_Vehicle_x</th>\n",
       "      <th>LATracts1_y</th>\n",
       "      <th>LATracts10_y</th>\n",
       "      <th>LATracts20_y</th>\n",
       "      <th>LATracts_half_y</th>\n",
       "      <th>LATracts1_x</th>\n",
       "      <th>...</th>\n",
       "      <th>B19131_002E_diff</th>\n",
       "      <th>B19131_003E_diff</th>\n",
       "      <th>B19126_001E_diff</th>\n",
       "      <th>B03002_009E_diff</th>\n",
       "      <th>B03002_010E_diff</th>\n",
       "      <th>B03002_011E_diff</th>\n",
       "      <th>entropy_index10_y</th>\n",
       "      <th>entropy_index15_x</th>\n",
       "      <th>HUNVFlag_y</th>\n",
       "      <th>HUNVFlag_diff</th>\n",
       "    </tr>\n",
       "  </thead>\n",
       "  <tbody>\n",
       "    <tr>\n",
       "      <th>0</th>\n",
       "      <td>2013000100</td>\n",
       "      <td>1</td>\n",
       "      <td>1</td>\n",
       "      <td>1</td>\n",
       "      <td>1</td>\n",
       "      <td>1</td>\n",
       "      <td>1</td>\n",
       "      <td>1</td>\n",
       "      <td>1</td>\n",
       "      <td>0</td>\n",
       "      <td>...</td>\n",
       "      <td>159</td>\n",
       "      <td>72</td>\n",
       "      <td>2663.0</td>\n",
       "      <td>-46</td>\n",
       "      <td>0</td>\n",
       "      <td>-46</td>\n",
       "      <td>1.436035</td>\n",
       "      <td>1.648337</td>\n",
       "      <td>1</td>\n",
       "      <td>0</td>\n",
       "    </tr>\n",
       "    <tr>\n",
       "      <th>1</th>\n",
       "      <td>2016000100</td>\n",
       "      <td>0</td>\n",
       "      <td>1</td>\n",
       "      <td>1</td>\n",
       "      <td>1</td>\n",
       "      <td>1</td>\n",
       "      <td>1</td>\n",
       "      <td>1</td>\n",
       "      <td>1</td>\n",
       "      <td>0</td>\n",
       "      <td>...</td>\n",
       "      <td>34</td>\n",
       "      <td>22</td>\n",
       "      <td>-1354.0</td>\n",
       "      <td>-35</td>\n",
       "      <td>0</td>\n",
       "      <td>-35</td>\n",
       "      <td>1.629681</td>\n",
       "      <td>1.430492</td>\n",
       "      <td>0</td>\n",
       "      <td>0</td>\n",
       "    </tr>\n",
       "    <tr>\n",
       "      <th>2</th>\n",
       "      <td>2016000200</td>\n",
       "      <td>0</td>\n",
       "      <td>0</td>\n",
       "      <td>0</td>\n",
       "      <td>0</td>\n",
       "      <td>1</td>\n",
       "      <td>0</td>\n",
       "      <td>0</td>\n",
       "      <td>1</td>\n",
       "      <td>0</td>\n",
       "      <td>...</td>\n",
       "      <td>246</td>\n",
       "      <td>152</td>\n",
       "      <td>4327.0</td>\n",
       "      <td>117</td>\n",
       "      <td>0</td>\n",
       "      <td>117</td>\n",
       "      <td>1.476288</td>\n",
       "      <td>1.636992</td>\n",
       "      <td>0</td>\n",
       "      <td>0</td>\n",
       "    </tr>\n",
       "    <tr>\n",
       "      <th>3</th>\n",
       "      <td>2020000101</td>\n",
       "      <td>0</td>\n",
       "      <td>0</td>\n",
       "      <td>0</td>\n",
       "      <td>0</td>\n",
       "      <td>1</td>\n",
       "      <td>0</td>\n",
       "      <td>0</td>\n",
       "      <td>1</td>\n",
       "      <td>1</td>\n",
       "      <td>...</td>\n",
       "      <td>-107</td>\n",
       "      <td>-13</td>\n",
       "      <td>NaN</td>\n",
       "      <td>359</td>\n",
       "      <td>0</td>\n",
       "      <td>359</td>\n",
       "      <td>0.584863</td>\n",
       "      <td>0.691189</td>\n",
       "      <td>0</td>\n",
       "      <td>0</td>\n",
       "    </tr>\n",
       "    <tr>\n",
       "      <th>4</th>\n",
       "      <td>2020000102</td>\n",
       "      <td>0</td>\n",
       "      <td>0</td>\n",
       "      <td>0</td>\n",
       "      <td>0</td>\n",
       "      <td>1</td>\n",
       "      <td>0</td>\n",
       "      <td>0</td>\n",
       "      <td>1</td>\n",
       "      <td>0</td>\n",
       "      <td>...</td>\n",
       "      <td>194</td>\n",
       "      <td>57</td>\n",
       "      <td>9355.0</td>\n",
       "      <td>117</td>\n",
       "      <td>0</td>\n",
       "      <td>117</td>\n",
       "      <td>0.800645</td>\n",
       "      <td>0.782535</td>\n",
       "      <td>1</td>\n",
       "      <td>-1</td>\n",
       "    </tr>\n",
       "  </tbody>\n",
       "</table>\n",
       "<p>5 rows × 129 columns</p>\n",
       "</div>"
      ],
      "text/plain": [
       "   CensusTract  HUNVFlag_x  LILATracts_1And10_x  LILATracts_halfAnd10_x  \\\n",
       "0   2013000100           1                    1                       1   \n",
       "1   2016000100           0                    1                       1   \n",
       "2   2016000200           0                    0                       0   \n",
       "3   2020000101           0                    0                       0   \n",
       "4   2020000102           0                    0                       0   \n",
       "\n",
       "   LILATracts_Vehicle_x  LATracts1_y  LATracts10_y  LATracts20_y  \\\n",
       "0                     1            1             1             1   \n",
       "1                     1            1             1             1   \n",
       "2                     0            1             0             0   \n",
       "3                     0            1             0             0   \n",
       "4                     0            1             0             0   \n",
       "\n",
       "   LATracts_half_y  LATracts1_x  ...  B19131_002E_diff  B19131_003E_diff  \\\n",
       "0                1            0  ...               159                72   \n",
       "1                1            0  ...                34                22   \n",
       "2                1            0  ...               246               152   \n",
       "3                1            1  ...              -107               -13   \n",
       "4                1            0  ...               194                57   \n",
       "\n",
       "   B19126_001E_diff  B03002_009E_diff  B03002_010E_diff  B03002_011E_diff  \\\n",
       "0            2663.0               -46                 0               -46   \n",
       "1           -1354.0               -35                 0               -35   \n",
       "2            4327.0               117                 0               117   \n",
       "3               NaN               359                 0               359   \n",
       "4            9355.0               117                 0               117   \n",
       "\n",
       "   entropy_index10_y  entropy_index15_x  HUNVFlag_y  HUNVFlag_diff  \n",
       "0           1.436035           1.648337           1              0  \n",
       "1           1.629681           1.430492           0              0  \n",
       "2           1.476288           1.636992           0              0  \n",
       "3           0.584863           0.691189           0              0  \n",
       "4           0.800645           0.782535           1             -1  \n",
       "\n",
       "[5 rows x 129 columns]"
      ]
     },
     "execution_count": 248,
     "metadata": {},
     "output_type": "execute_result"
    }
   ],
   "source": [
    "clean_dataset.head()"
   ]
  },
  {
   "cell_type": "markdown",
   "metadata": {},
   "source": [
    "Replace NA's with zeros"
   ]
  },
  {
   "cell_type": "code",
   "execution_count": 249,
   "metadata": {},
   "outputs": [],
   "source": [
    "nona_clean_dataset = clean_dataset.fillna(0)"
   ]
  },
  {
   "cell_type": "code",
   "execution_count": 250,
   "metadata": {},
   "outputs": [
    {
     "data": {
      "text/html": [
       "<div>\n",
       "<style scoped>\n",
       "    .dataframe tbody tr th:only-of-type {\n",
       "        vertical-align: middle;\n",
       "    }\n",
       "\n",
       "    .dataframe tbody tr th {\n",
       "        vertical-align: top;\n",
       "    }\n",
       "\n",
       "    .dataframe thead th {\n",
       "        text-align: right;\n",
       "    }\n",
       "</style>\n",
       "<table border=\"1\" class=\"dataframe\">\n",
       "  <thead>\n",
       "    <tr style=\"text-align: right;\">\n",
       "      <th></th>\n",
       "      <th>CensusTract</th>\n",
       "      <th>HUNVFlag_x</th>\n",
       "      <th>LILATracts_1And10_x</th>\n",
       "      <th>LILATracts_halfAnd10_x</th>\n",
       "      <th>LILATracts_Vehicle_x</th>\n",
       "      <th>LATracts1_y</th>\n",
       "      <th>LATracts10_y</th>\n",
       "      <th>LATracts20_y</th>\n",
       "      <th>LATracts_half_y</th>\n",
       "      <th>LATracts1_x</th>\n",
       "      <th>...</th>\n",
       "      <th>B19131_002E_diff</th>\n",
       "      <th>B19131_003E_diff</th>\n",
       "      <th>B19126_001E_diff</th>\n",
       "      <th>B03002_009E_diff</th>\n",
       "      <th>B03002_010E_diff</th>\n",
       "      <th>B03002_011E_diff</th>\n",
       "      <th>entropy_index10_y</th>\n",
       "      <th>entropy_index15_x</th>\n",
       "      <th>HUNVFlag_y</th>\n",
       "      <th>HUNVFlag_diff</th>\n",
       "    </tr>\n",
       "  </thead>\n",
       "  <tbody>\n",
       "    <tr>\n",
       "      <th>0</th>\n",
       "      <td>2013000100</td>\n",
       "      <td>1</td>\n",
       "      <td>1</td>\n",
       "      <td>1</td>\n",
       "      <td>1</td>\n",
       "      <td>1</td>\n",
       "      <td>1</td>\n",
       "      <td>1</td>\n",
       "      <td>1</td>\n",
       "      <td>0</td>\n",
       "      <td>...</td>\n",
       "      <td>159</td>\n",
       "      <td>72</td>\n",
       "      <td>2663.0</td>\n",
       "      <td>-46</td>\n",
       "      <td>0</td>\n",
       "      <td>-46</td>\n",
       "      <td>1.436035</td>\n",
       "      <td>1.648337</td>\n",
       "      <td>1</td>\n",
       "      <td>0</td>\n",
       "    </tr>\n",
       "    <tr>\n",
       "      <th>1</th>\n",
       "      <td>2016000100</td>\n",
       "      <td>0</td>\n",
       "      <td>1</td>\n",
       "      <td>1</td>\n",
       "      <td>1</td>\n",
       "      <td>1</td>\n",
       "      <td>1</td>\n",
       "      <td>1</td>\n",
       "      <td>1</td>\n",
       "      <td>0</td>\n",
       "      <td>...</td>\n",
       "      <td>34</td>\n",
       "      <td>22</td>\n",
       "      <td>-1354.0</td>\n",
       "      <td>-35</td>\n",
       "      <td>0</td>\n",
       "      <td>-35</td>\n",
       "      <td>1.629681</td>\n",
       "      <td>1.430492</td>\n",
       "      <td>0</td>\n",
       "      <td>0</td>\n",
       "    </tr>\n",
       "    <tr>\n",
       "      <th>2</th>\n",
       "      <td>2016000200</td>\n",
       "      <td>0</td>\n",
       "      <td>0</td>\n",
       "      <td>0</td>\n",
       "      <td>0</td>\n",
       "      <td>1</td>\n",
       "      <td>0</td>\n",
       "      <td>0</td>\n",
       "      <td>1</td>\n",
       "      <td>0</td>\n",
       "      <td>...</td>\n",
       "      <td>246</td>\n",
       "      <td>152</td>\n",
       "      <td>4327.0</td>\n",
       "      <td>117</td>\n",
       "      <td>0</td>\n",
       "      <td>117</td>\n",
       "      <td>1.476288</td>\n",
       "      <td>1.636992</td>\n",
       "      <td>0</td>\n",
       "      <td>0</td>\n",
       "    </tr>\n",
       "    <tr>\n",
       "      <th>3</th>\n",
       "      <td>2020000101</td>\n",
       "      <td>0</td>\n",
       "      <td>0</td>\n",
       "      <td>0</td>\n",
       "      <td>0</td>\n",
       "      <td>1</td>\n",
       "      <td>0</td>\n",
       "      <td>0</td>\n",
       "      <td>1</td>\n",
       "      <td>1</td>\n",
       "      <td>...</td>\n",
       "      <td>-107</td>\n",
       "      <td>-13</td>\n",
       "      <td>0.0</td>\n",
       "      <td>359</td>\n",
       "      <td>0</td>\n",
       "      <td>359</td>\n",
       "      <td>0.584863</td>\n",
       "      <td>0.691189</td>\n",
       "      <td>0</td>\n",
       "      <td>0</td>\n",
       "    </tr>\n",
       "    <tr>\n",
       "      <th>4</th>\n",
       "      <td>2020000102</td>\n",
       "      <td>0</td>\n",
       "      <td>0</td>\n",
       "      <td>0</td>\n",
       "      <td>0</td>\n",
       "      <td>1</td>\n",
       "      <td>0</td>\n",
       "      <td>0</td>\n",
       "      <td>1</td>\n",
       "      <td>0</td>\n",
       "      <td>...</td>\n",
       "      <td>194</td>\n",
       "      <td>57</td>\n",
       "      <td>9355.0</td>\n",
       "      <td>117</td>\n",
       "      <td>0</td>\n",
       "      <td>117</td>\n",
       "      <td>0.800645</td>\n",
       "      <td>0.782535</td>\n",
       "      <td>1</td>\n",
       "      <td>-1</td>\n",
       "    </tr>\n",
       "  </tbody>\n",
       "</table>\n",
       "<p>5 rows × 129 columns</p>\n",
       "</div>"
      ],
      "text/plain": [
       "   CensusTract  HUNVFlag_x  LILATracts_1And10_x  LILATracts_halfAnd10_x  \\\n",
       "0   2013000100           1                    1                       1   \n",
       "1   2016000100           0                    1                       1   \n",
       "2   2016000200           0                    0                       0   \n",
       "3   2020000101           0                    0                       0   \n",
       "4   2020000102           0                    0                       0   \n",
       "\n",
       "   LILATracts_Vehicle_x  LATracts1_y  LATracts10_y  LATracts20_y  \\\n",
       "0                     1            1             1             1   \n",
       "1                     1            1             1             1   \n",
       "2                     0            1             0             0   \n",
       "3                     0            1             0             0   \n",
       "4                     0            1             0             0   \n",
       "\n",
       "   LATracts_half_y  LATracts1_x  ...  B19131_002E_diff  B19131_003E_diff  \\\n",
       "0                1            0  ...               159                72   \n",
       "1                1            0  ...                34                22   \n",
       "2                1            0  ...               246               152   \n",
       "3                1            1  ...              -107               -13   \n",
       "4                1            0  ...               194                57   \n",
       "\n",
       "   B19126_001E_diff  B03002_009E_diff  B03002_010E_diff  B03002_011E_diff  \\\n",
       "0            2663.0               -46                 0               -46   \n",
       "1           -1354.0               -35                 0               -35   \n",
       "2            4327.0               117                 0               117   \n",
       "3               0.0               359                 0               359   \n",
       "4            9355.0               117                 0               117   \n",
       "\n",
       "   entropy_index10_y  entropy_index15_x  HUNVFlag_y  HUNVFlag_diff  \n",
       "0           1.436035           1.648337           1              0  \n",
       "1           1.629681           1.430492           0              0  \n",
       "2           1.476288           1.636992           0              0  \n",
       "3           0.584863           0.691189           0              0  \n",
       "4           0.800645           0.782535           1             -1  \n",
       "\n",
       "[5 rows x 129 columns]"
      ]
     },
     "execution_count": 250,
     "metadata": {},
     "output_type": "execute_result"
    }
   ],
   "source": [
    "nona_clean_dataset.head()"
   ]
  },
  {
   "cell_type": "markdown",
   "metadata": {},
   "source": [
    "Split dataset into train and test data. I decided to use 20% of the test data to train my model"
   ]
  },
  {
   "cell_type": "code",
   "execution_count": 251,
   "metadata": {},
   "outputs": [],
   "source": [
    "x = nona_clean_dataset.iloc[:, 0:127]\n",
    "y = nona_clean_dataset.iloc[:, 128]\n",
    "y=y.astype('int')\n",
    "x_train,x_test,y_train,y_test = train_test_split(x, y, random_state = 1, test_size=0.2)"
   ]
  },
  {
   "cell_type": "markdown",
   "metadata": {},
   "source": [
    "Then, feature scaling on the training data to normalize it before we input. Also, make sure both the test and train data are transformed."
   ]
  },
  {
   "cell_type": "code",
   "execution_count": 252,
   "metadata": {},
   "outputs": [
    {
     "name": "stderr",
     "output_type": "stream",
     "text": [
      "/opt/conda/lib/python3.6/site-packages/sklearn/preprocessing/data.py:625: DataConversionWarning: Data with input dtype int64, float64 were all converted to float64 by StandardScaler.\n",
      "  return self.partial_fit(X, y)\n",
      "/opt/conda/lib/python3.6/site-packages/sklearn/base.py:462: DataConversionWarning: Data with input dtype int64, float64 were all converted to float64 by StandardScaler.\n",
      "  return self.fit(X, **fit_params).transform(X)\n",
      "/opt/conda/lib/python3.6/site-packages/ipykernel_launcher.py:3: DataConversionWarning: Data with input dtype int64, float64 were all converted to float64 by StandardScaler.\n",
      "  This is separate from the ipykernel package so we can avoid doing imports until\n"
     ]
    }
   ],
   "source": [
    "sc_X = StandardScaler()\n",
    "x_train = sc_X.fit_transform(x_train)\n",
    "x_test = sc_X.transform(x_test)"
   ]
  },
  {
   "cell_type": "markdown",
   "metadata": {},
   "source": [
    "Define the model: Create KNN Classifier"
   ]
  },
  {
   "cell_type": "code",
   "execution_count": 253,
   "metadata": {},
   "outputs": [],
   "source": [
    "from sklearn.model_selection import cross_val_predict\n",
    "classifier = KNeighborsClassifier(n_neighbors = 113,p=3, metric = 'euclidean')"
   ]
  },
  {
   "cell_type": "markdown",
   "metadata": {},
   "source": [
    "Fit the model"
   ]
  },
  {
   "cell_type": "code",
   "execution_count": 254,
   "metadata": {},
   "outputs": [],
   "source": [
    "# lab_enc = preprocessing.LabelEncoder()\n",
    "# encoded = lab_enc.fit_transform(y_train)\n",
    "# print(utils.multiclass.type_of_target(y_train.astype('int')))\n",
    "# y_pred = cross_val_predict(classifier,x,y,cv = 5)"
   ]
  },
  {
   "cell_type": "code",
   "execution_count": 255,
   "metadata": {
    "scrolled": true
   },
   "outputs": [
    {
     "name": "stdout",
     "output_type": "stream",
     "text": [
      "50362    0\n",
      "43332   -1\n",
      "8309     0\n",
      "59229    0\n",
      "21318    0\n",
      "        ..\n",
      "32511    0\n",
      "5192     1\n",
      "12172    0\n",
      "33003    0\n",
      "62501    0\n",
      "Name: HUNVFlag_diff, Length: 51658, dtype: int64\n",
      "multiclass\n",
      "multiclass\n",
      "multiclass\n"
     ]
    }
   ],
   "source": [
    "lab_enc = preprocessing.LabelEncoder()\n",
    "training_scores_encoded = lab_enc.fit_transform(y_train)\n",
    "print(y_train)\n",
    "print(utils.multiclass.type_of_target(y_train))\n",
    "print(utils.multiclass.type_of_target(y_train.astype('int')))\n",
    "print(utils.multiclass.type_of_target(y_train))"
   ]
  },
  {
   "cell_type": "markdown",
   "metadata": {},
   "source": [
    "The amount of Nearest Neightbors"
   ]
  },
  {
   "cell_type": "code",
   "execution_count": 256,
   "metadata": {},
   "outputs": [
    {
     "data": {
      "text/plain": [
       "113.64418154925487"
      ]
     },
     "execution_count": 256,
     "metadata": {},
     "output_type": "execute_result"
    }
   ],
   "source": [
    "import math\n",
    "math.sqrt(len(y_test))"
   ]
  },
  {
   "cell_type": "markdown",
   "metadata": {},
   "source": [
    "Build the model "
   ]
  },
  {
   "cell_type": "code",
   "execution_count": 257,
   "metadata": {},
   "outputs": [
    {
     "data": {
      "text/plain": [
       "KNeighborsClassifier(algorithm='auto', leaf_size=30, metric='euclidean',\n",
       "           metric_params=None, n_jobs=None, n_neighbors=113, p=3,\n",
       "           weights='uniform')"
      ]
     },
     "execution_count": 257,
     "metadata": {},
     "output_type": "execute_result"
    }
   ],
   "source": [
    "classifier.fit(x_train, y_train)"
   ]
  },
  {
   "cell_type": "markdown",
   "metadata": {},
   "source": [
    "Predict the response for test dataset"
   ]
  },
  {
   "cell_type": "code",
   "execution_count": 258,
   "metadata": {},
   "outputs": [],
   "source": [
    "y_pred = classifier.predict(x_test)"
   ]
  },
  {
   "cell_type": "code",
   "execution_count": 259,
   "metadata": {},
   "outputs": [
    {
     "data": {
      "text/plain": [
       "12915"
      ]
     },
     "execution_count": 259,
     "metadata": {},
     "output_type": "execute_result"
    }
   ],
   "source": [
    "y_pred\n",
    "len(y_pred)"
   ]
  },
  {
   "cell_type": "markdown",
   "metadata": {},
   "source": [
    "Evaluate the Model"
   ]
  },
  {
   "cell_type": "code",
   "execution_count": 260,
   "metadata": {},
   "outputs": [
    {
     "name": "stdout",
     "output_type": "stream",
     "text": [
      "[[  160   736     0]\n",
      " [    2 10960    16]\n",
      " [    0   784   257]]\n"
     ]
    }
   ],
   "source": [
    "cm = confusion_matrix(y_test,y_pred)\n",
    "print(cm)"
   ]
  },
  {
   "cell_type": "markdown",
   "metadata": {},
   "source": [
    "Print F1-Score -  takes into account the false positives"
   ]
  },
  {
   "cell_type": "code",
   "execution_count": 263,
   "metadata": {},
   "outputs": [],
   "source": [
    "# print(f1_score(y_test,y_pred))"
   ]
  },
  {
   "cell_type": "markdown",
   "metadata": {},
   "source": [
    "Print the Accuracy Score"
   ]
  },
  {
   "cell_type": "code",
   "execution_count": 262,
   "metadata": {},
   "outputs": [
    {
     "name": "stdout",
     "output_type": "stream",
     "text": [
      "0.88091366627952\n"
     ]
    }
   ],
   "source": [
    "print(accuracy_score(y_test,y_pred))"
   ]
  },
  {
   "cell_type": "markdown",
   "metadata": {},
   "source": [
    "This is a fair fit for the model at 88%. Now, let's plot the data to visualize it"
   ]
  },
  {
   "cell_type": "code",
   "execution_count": 267,
   "metadata": {},
   "outputs": [],
   "source": [
    "import sklearn\n",
    "from sklearn.cluster import KMeans\n",
    "from mpl_toolkits.mplot3d import Axes3D\n",
    "from sklearn.preprocessing import scale\n",
    "\n",
    "import sklearn.metrics as sm\n",
    "from sklearn import datasets\n",
    "from sklearn.metrics import confusion_matrix,classification_report\n",
    "from sklearn import datasets, neighbors\n",
    "from mlxtend.plotting import plot_decision_regions"
   ]
  },
  {
   "cell_type": "markdown",
   "metadata": {},
   "source": [
    "Build the model"
   ]
  },
  {
   "cell_type": "code",
   "execution_count": 268,
   "metadata": {},
   "outputs": [
    {
     "data": {
      "text/plain": [
       "KMeans(algorithm='auto', copy_x=True, init='k-means++', max_iter=300,\n",
       "    n_clusters=3, n_init=10, n_jobs=None, precompute_distances='auto',\n",
       "    random_state=3, tol=0.0001, verbose=0)"
      ]
     },
     "execution_count": 268,
     "metadata": {},
     "output_type": "execute_result"
    }
   ],
   "source": [
    "clustering = KMeans(n_clusters = 3, random_state = 3)\n",
    "clustering.fit(x_train, y_train)"
   ]
  },
  {
   "cell_type": "code",
   "execution_count": 278,
   "metadata": {},
   "outputs": [
    {
     "name": "stdout",
     "output_type": "stream",
     "text": [
      "[1 2 0 ... 1 0 0]\n"
     ]
    }
   ],
   "source": [
    "print(clustering.labels_)"
   ]
  },
  {
   "cell_type": "markdown",
   "metadata": {},
   "source": [
    "Plotting my model output"
   ]
  },
  {
   "cell_type": "code",
   "execution_count": 269,
   "metadata": {},
   "outputs": [],
   "source": [
    "desert_df = pd.DataFrame(nona_clean_dataset)"
   ]
  },
  {
   "cell_type": "code",
   "execution_count": 270,
   "metadata": {},
   "outputs": [
    {
     "data": {
      "text/plain": [
       "['CensusTract',\n",
       " 'HUNVFlag_x',\n",
       " 'LILATracts_1And10_x',\n",
       " 'LILATracts_halfAnd10_x',\n",
       " 'LILATracts_Vehicle_x',\n",
       " 'LATracts1_y',\n",
       " 'LATracts10_y',\n",
       " 'LATracts20_y',\n",
       " 'LATracts_half_y',\n",
       " 'LATracts1_x',\n",
       " 'LATracts10_x',\n",
       " 'LATracts20_x',\n",
       " 'LATracts_half_x',\n",
       " 'LILATracts_1And20_x',\n",
       " 'Unnamed: 16',\n",
       " 'LILATracts_1And10_y',\n",
       " 'LILATracts_halfAnd10_y',\n",
       " 'LILATracts_Vehicle_y',\n",
       " 'LILATracts_1And20_y',\n",
       " 'LILATracts_1And10_diff',\n",
       " 'LILATracts_halfAnd10_diff',\n",
       " 'LILATracts_Vehicle_diff',\n",
       " 'LILATracts_1And20_diff',\n",
       " 'LATracts1_diff',\n",
       " 'LATracts10_diff',\n",
       " 'LATracts20_diff',\n",
       " 'LATracts_half_diff',\n",
       " 'prop_white',\n",
       " 'prop_black',\n",
       " 'prop_asian',\n",
       " 'prop_hisp',\n",
       " 'prop_nhopi',\n",
       " 'prop_aian',\n",
       " 'prop_multir',\n",
       " 'totalprop',\n",
       " 'totalpop10',\n",
       " 'prop_white10',\n",
       " 'prop_black10',\n",
       " 'prop_asian10',\n",
       " 'prop_hisp10',\n",
       " 'prop_nhopi10',\n",
       " 'prop_aian10',\n",
       " 'prop_multir10',\n",
       " 'Unnamed: 0_x',\n",
       " 'STATE2010',\n",
       " 'B01001_001E2010',\n",
       " 'B01001_002E2010',\n",
       " 'B01001_026E2010',\n",
       " 'B01002_001E2010',\n",
       " 'B01003_001E2010',\n",
       " 'B19037_001E2010',\n",
       " 'B19001_001E2010',\n",
       " 'B17023_001E2010',\n",
       " 'B17020A_014E2010',\n",
       " 'B08303_002E2010',\n",
       " 'B08303_010E2010',\n",
       " 'B08301_010E2010',\n",
       " 'B08301_002E2010',\n",
       " 'B08202_004E2010',\n",
       " 'B08202_020E2010',\n",
       " 'B08137_002E2010',\n",
       " 'B19326_001E2010',\n",
       " 'B19301_001E2010',\n",
       " 'B19131_002E2010',\n",
       " 'B19131_003E2010',\n",
       " 'B19126_001E2010',\n",
       " 'B03002_009E2010',\n",
       " 'B03002_010E2010',\n",
       " 'B03002_011E2010',\n",
       " 'state2010',\n",
       " 'county2010',\n",
       " 'tract2010',\n",
       " 'Unnamed: 0_y',\n",
       " 'STATE2015',\n",
       " 'B01001_001E2015',\n",
       " 'B01001_002E2015',\n",
       " 'B01001_026E2015',\n",
       " 'B01002_001E2015',\n",
       " 'B01003_001E2015',\n",
       " 'B19037_001E2015',\n",
       " 'B19001_001E2015',\n",
       " 'B17023_001E2015',\n",
       " 'B17020A_014E2015',\n",
       " 'B08303_002E2015',\n",
       " 'B08303_010E2015',\n",
       " 'B08301_010E2015',\n",
       " 'B08301_002E2015',\n",
       " 'B08202_004E2015',\n",
       " 'B08202_020E2015',\n",
       " 'B08137_002E2015',\n",
       " 'B19326_001E2015',\n",
       " 'B19301_001E2015',\n",
       " 'B19131_002E2015',\n",
       " 'B19131_003E2015',\n",
       " 'B19126_001E2015',\n",
       " 'B03002_009E2015',\n",
       " 'B03002_010E2015',\n",
       " 'B03002_011E2015',\n",
       " 'state2015',\n",
       " 'county2015',\n",
       " 'tract2015',\n",
       " 'B01001_001E_diff',\n",
       " 'B01001_002E_diff',\n",
       " 'B01001_026E_diff',\n",
       " 'B01002_001E_diff',\n",
       " 'B01003_001E_diff',\n",
       " 'B19037_001E_diff',\n",
       " 'B19001_001E_diff',\n",
       " 'B17023_001E_diff',\n",
       " 'B17020A_014E_diff',\n",
       " 'B08303_002E_diff',\n",
       " 'B08303_010E_diff',\n",
       " 'B08301_010E_diff',\n",
       " 'B08301_002E_diff',\n",
       " 'B08202_004E_diff',\n",
       " 'B08202_020E_diff',\n",
       " 'B08137_002E_diff',\n",
       " 'B19326_001E_diff',\n",
       " 'B19301_001E_diff',\n",
       " 'B19131_002E_diff',\n",
       " 'B19131_003E_diff',\n",
       " 'B19126_001E_diff',\n",
       " 'B03002_009E_diff',\n",
       " 'B03002_010E_diff',\n",
       " 'B03002_011E_diff',\n",
       " 'entropy_index10_y',\n",
       " 'entropy_index15_x',\n",
       " 'HUNVFlag_y',\n",
       " 'HUNVFlag_diff']"
      ]
     },
     "execution_count": 270,
     "metadata": {},
     "output_type": "execute_result"
    }
   ],
   "source": [
    "nona_clean_dataset.columns.tolist()"
   ]
  },
  {
   "cell_type": "code",
   "execution_count": 271,
   "metadata": {},
   "outputs": [],
   "source": [
    "desert_df.columns = ['CensusTract',\n",
    " 'HUNVFlag_x',\n",
    " 'LILATracts_1And10_x',\n",
    " 'LILATracts_halfAnd10_x',\n",
    " 'LILATracts_Vehicle_x',\n",
    " 'LATracts1_y',\n",
    " 'LATracts10_y',\n",
    " 'LATracts20_y',\n",
    " 'LATracts_half_y',\n",
    " 'LATracts1_x',\n",
    " 'LATracts10_x',\n",
    " 'LATracts20_x',\n",
    " 'LATracts_half_x',\n",
    " 'LILATracts_1And20_x',\n",
    " 'Unnamed: 16',\n",
    " 'LILATracts_1And10_y',\n",
    " 'LILATracts_halfAnd10_y',\n",
    " 'LILATracts_Vehicle_y',\n",
    " 'LILATracts_1And20_y',\n",
    " 'HUNVFlag_diff',\n",
    " 'LILATracts_1And10_diff',\n",
    " 'LILATracts_halfAnd10_diff',\n",
    " 'LILATracts_Vehicle_diff',\n",
    " 'LILATracts_1And20_diff',\n",
    " 'LATracts1_diff',\n",
    " 'LATracts10_diff',\n",
    " 'LATracts20_diff',\n",
    " 'LATracts_half_diff',\n",
    " 'prop_white',\n",
    " 'prop_black',\n",
    " 'prop_asian',\n",
    " 'prop_hisp',\n",
    " 'prop_nhopi',\n",
    " 'prop_aian',\n",
    " 'prop_multir',\n",
    " 'totalprop',\n",
    " 'totalpop10',\n",
    " 'prop_white10',\n",
    " 'prop_black10',\n",
    " 'prop_asian10',\n",
    " 'prop_hisp10',\n",
    " 'prop_nhopi10',\n",
    " 'prop_aian10',\n",
    " 'prop_multir10',\n",
    " 'Unnamed: 0_x',\n",
    " 'STATE2010',\n",
    " 'B01001_001E2010',\n",
    " 'B01001_002E2010',\n",
    " 'B01001_026E2010',\n",
    " 'B01002_001E2010',\n",
    " 'B01003_001E2010',\n",
    " 'B19037_001E2010',\n",
    " 'B19001_001E2010',\n",
    " 'B17023_001E2010',\n",
    " 'B17020A_014E2010',\n",
    " 'B08303_002E2010',\n",
    " 'B08303_010E2010',\n",
    " 'B08301_010E2010',\n",
    " 'B08301_002E2010',\n",
    " 'B08202_004E2010',\n",
    " 'B08202_020E2010',\n",
    " 'B08137_002E2010',\n",
    " 'B19326_001E2010',\n",
    " 'B19301_001E2010',\n",
    " 'B19131_002E2010',\n",
    " 'B19131_003E2010',\n",
    " 'B19126_001E2010',\n",
    " 'B03002_009E2010',\n",
    " 'B03002_010E2010',\n",
    " 'B03002_011E2010',\n",
    " 'state2010',\n",
    " 'county2010',\n",
    " 'tract2010',\n",
    " 'Unnamed: 0_y',\n",
    " 'STATE2015',\n",
    " 'B01001_001E2015',\n",
    " 'B01001_002E2015',\n",
    " 'B01001_026E2015',\n",
    " 'B01002_001E2015',\n",
    " 'B01003_001E2015',\n",
    " 'B19037_001E2015',\n",
    " 'B19001_001E2015',\n",
    " 'B17023_001E2015',\n",
    " 'B17020A_014E2015',\n",
    " 'B08303_002E2015',\n",
    " 'B08303_010E2015',\n",
    " 'B08301_010E2015',\n",
    " 'B08301_002E2015',\n",
    " 'B08202_004E2015',\n",
    " 'B08202_020E2015',\n",
    " 'B08137_002E2015',\n",
    " 'B19326_001E2015',\n",
    " 'B19301_001E2015',\n",
    " 'B19131_002E2015',\n",
    " 'B19131_003E2015',\n",
    " 'B19126_001E2015',\n",
    " 'B03002_009E2015',\n",
    " 'B03002_010E2015',\n",
    " 'B03002_011E2015',\n",
    " 'state2015',\n",
    " 'county2015',\n",
    " 'tract2015',\n",
    " 'B01001_001E_diff',\n",
    " 'B01001_002E_diff',\n",
    " 'B01001_026E_diff',\n",
    " 'B01002_001E_diff',\n",
    " 'B01003_001E_diff',\n",
    " 'B19037_001E_diff',\n",
    " 'B19001_001E_diff',\n",
    " 'B17023_001E_diff',\n",
    " 'B17020A_014E_diff',\n",
    " 'B08303_002E_diff',\n",
    " 'B08303_010E_diff',\n",
    " 'B08301_010E_diff',\n",
    " 'B08301_002E_diff',\n",
    " 'B08202_004E_diff',\n",
    " 'B08202_020E_diff',\n",
    " 'B08137_002E_diff',\n",
    " 'B19326_001E_diff',\n",
    " 'B19301_001E_diff',\n",
    " 'B19131_002E_diff',\n",
    " 'B19131_003E_diff',\n",
    " 'B19126_001E_diff',\n",
    " 'B03002_009E_diff',\n",
    " 'B03002_010E_diff',\n",
    " 'B03002_011E_diff',\n",
    " 'entropy_index10_y',\n",
    " 'entropy_index15_x',\n",
    " 'HUNVFlag_y']\n",
    "y.columns=[\"HUNVFlag_y\"]\n"
   ]
  },
  {
   "cell_type": "code",
   "execution_count": 275,
   "metadata": {},
   "outputs": [
    {
     "data": {
      "text/plain": [
       "KMeans(algorithm='auto', copy_x=True, init='k-means++', max_iter=300,\n",
       "    n_clusters=3, n_init=10, n_jobs=None, precompute_distances='auto',\n",
       "    random_state=3, tol=0.0001, verbose=0)"
      ]
     },
     "execution_count": 275,
     "metadata": {},
     "output_type": "execute_result"
    }
   ],
   "source": [
    "clustering"
   ]
  },
  {
   "cell_type": "code",
   "execution_count": null,
   "metadata": {},
   "outputs": [],
   "source": []
  },
  {
   "cell_type": "code",
   "execution_count": 300,
   "metadata": {},
   "outputs": [
    {
     "ename": "IndentationError",
     "evalue": "unindent does not match any outer indentation level (<tokenize>, line 18)",
     "output_type": "error",
     "traceback": [
      "\u001b[0;36m  File \u001b[0;32m\"<tokenize>\"\u001b[0;36m, line \u001b[0;32m18\u001b[0m\n\u001b[0;31m    except ValueError:\u001b[0m\n\u001b[0m    ^\u001b[0m\n\u001b[0;31mIndentationError\u001b[0m\u001b[0;31m:\u001b[0m unindent does not match any outer indentation level\n"
     ]
    }
   ],
   "source": [
    "color_theme = np.array(['darkgray','lightsalmon','powderblue'])\n",
    "plt.subplot(1,2,1)\n",
    "plt.scatter(x=desert_df.HUNVFlag_x, y =desert_df.HUNVFlag_y, c = color_theme [desert_df.HUNVFlag_y], s= 50)\n",
    "plt.title(\"Food Desert or not\")\n",
    "plt.subplot(1,2,2)\n",
    "plt.scatter(x= desert_df.HUNVFlag_x,y= desert_df.HUNVFlag_y, c = color_theme[clustering.labels_],s=50 )\n",
    "plt.title(\"K-Means Function\")\n",
    "if c_none or co is not None:\n",
    "            c_array = None\n",
    "else:  # <- from the not shown instructions above, c_none is False\n",
    "            try:\n",
    "                c_array = np.asanyarray(c, dtype=float)\n",
    "if c_array.shape in xy_shape:  # <- True for case *A* => everything will be fine\n",
    "                    c = np.ma.ravel(c_array)\n",
    "else:  # <- in case *B* c_array.shape == (), while xy_shape == ((1,), (1,))\n",
    "                    # Wrong size; it must not be intended for mapping.\n",
    "                    c_array = None\n",
    "            except ValueError:\n",
    "                # Failed to make a floating-point array; c must be color specs.\n",
    "                c_array = None\n",
    "\n",
    "if c_array is None:  # <- True in case *B*\n",
    "            try:\n",
    "                # must be acceptable as PathCollection facecolors\n",
    "                colors = mcolors.to_rgba_array(c)  # <- BOOM!\n",
    "            except ValueError:\n",
    "                # c not acceptable as PathCollection facecolor\n",
    "                msg = (\"c of shape {0} not acceptable as a color sequence \"\n",
    "                       \"for x with size {1}, y with size {2}\")\n",
    "                raise ValueError(msg.format(c.shape, x.size, y.size))\n",
    "else:\n",
    "            colors = None  # use cmap, norm after collection is created"
   ]
  },
  {
   "cell_type": "code",
   "execution_count": 283,
   "metadata": {},
   "outputs": [
    {
     "ename": "ValueError",
     "evalue": "X must be a NumPy array. Found <class 'pandas.core.series.Series'>",
     "output_type": "error",
     "traceback": [
      "\u001b[0;31m---------------------------------------------------------------------------\u001b[0m",
      "\u001b[0;31mValueError\u001b[0m                                Traceback (most recent call last)",
      "\u001b[0;32m<ipython-input-283-e304ba3d37b8>\u001b[0m in \u001b[0;36m<module>\u001b[0;34m\u001b[0m\n\u001b[0;32m----> 1\u001b[0;31m \u001b[0mplot_decision_regions\u001b[0m\u001b[0;34m(\u001b[0m\u001b[0my_test\u001b[0m\u001b[0;34m,\u001b[0m \u001b[0my_pred\u001b[0m\u001b[0;34m,\u001b[0m \u001b[0mclf\u001b[0m\u001b[0;34m=\u001b[0m\u001b[0mneighbors\u001b[0m\u001b[0;34m.\u001b[0m\u001b[0mKNeighborsClassifier\u001b[0m\u001b[0;34m(\u001b[0m\u001b[0mn_neighbors\u001b[0m\u001b[0;34m=\u001b[0m\u001b[0;36m113\u001b[0m\u001b[0;34m)\u001b[0m\u001b[0;34m,\u001b[0m \u001b[0mlegend\u001b[0m\u001b[0;34m=\u001b[0m\u001b[0;36m2\u001b[0m\u001b[0;34m)\u001b[0m\u001b[0;34m\u001b[0m\u001b[0;34m\u001b[0m\u001b[0m\n\u001b[0m",
      "\u001b[0;32m/opt/conda/lib/python3.6/site-packages/mlxtend/plotting/decision_regions.py\u001b[0m in \u001b[0;36mplot_decision_regions\u001b[0;34m(X, y, clf, feature_index, filler_feature_values, filler_feature_ranges, ax, X_highlight, res, zoom_factor, legend, hide_spines, markers, colors, scatter_kwargs, contourf_kwargs, scatter_highlight_kwargs)\u001b[0m\n\u001b[1;32m    130\u001b[0m     \"\"\"\n\u001b[1;32m    131\u001b[0m \u001b[0;34m\u001b[0m\u001b[0m\n\u001b[0;32m--> 132\u001b[0;31m     \u001b[0mcheck_Xy\u001b[0m\u001b[0;34m(\u001b[0m\u001b[0mX\u001b[0m\u001b[0;34m,\u001b[0m \u001b[0my\u001b[0m\u001b[0;34m,\u001b[0m \u001b[0my_int\u001b[0m\u001b[0;34m=\u001b[0m\u001b[0;32mTrue\u001b[0m\u001b[0;34m)\u001b[0m  \u001b[0;31m# Validate X and y arrays\u001b[0m\u001b[0;34m\u001b[0m\u001b[0;34m\u001b[0m\u001b[0m\n\u001b[0m\u001b[1;32m    133\u001b[0m     \u001b[0mdim\u001b[0m \u001b[0;34m=\u001b[0m \u001b[0mX\u001b[0m\u001b[0;34m.\u001b[0m\u001b[0mshape\u001b[0m\u001b[0;34m[\u001b[0m\u001b[0;36m1\u001b[0m\u001b[0;34m]\u001b[0m\u001b[0;34m\u001b[0m\u001b[0;34m\u001b[0m\u001b[0m\n\u001b[1;32m    134\u001b[0m \u001b[0;34m\u001b[0m\u001b[0m\n",
      "\u001b[0;32m/opt/conda/lib/python3.6/site-packages/mlxtend/utils/checking.py\u001b[0m in \u001b[0;36mcheck_Xy\u001b[0;34m(X, y, y_int)\u001b[0m\n\u001b[1;32m     14\u001b[0m     \u001b[0;31m# check types\u001b[0m\u001b[0;34m\u001b[0m\u001b[0;34m\u001b[0m\u001b[0;34m\u001b[0m\u001b[0m\n\u001b[1;32m     15\u001b[0m     \u001b[0;32mif\u001b[0m \u001b[0;32mnot\u001b[0m \u001b[0misinstance\u001b[0m\u001b[0;34m(\u001b[0m\u001b[0mX\u001b[0m\u001b[0;34m,\u001b[0m \u001b[0mnp\u001b[0m\u001b[0;34m.\u001b[0m\u001b[0mndarray\u001b[0m\u001b[0;34m)\u001b[0m\u001b[0;34m:\u001b[0m\u001b[0;34m\u001b[0m\u001b[0;34m\u001b[0m\u001b[0m\n\u001b[0;32m---> 16\u001b[0;31m         \u001b[0;32mraise\u001b[0m \u001b[0mValueError\u001b[0m\u001b[0;34m(\u001b[0m\u001b[0;34m'X must be a NumPy array. Found %s'\u001b[0m \u001b[0;34m%\u001b[0m \u001b[0mtype\u001b[0m\u001b[0;34m(\u001b[0m\u001b[0mX\u001b[0m\u001b[0;34m)\u001b[0m\u001b[0;34m)\u001b[0m\u001b[0;34m\u001b[0m\u001b[0;34m\u001b[0m\u001b[0m\n\u001b[0m\u001b[1;32m     17\u001b[0m     \u001b[0;32mif\u001b[0m \u001b[0;32mnot\u001b[0m \u001b[0misinstance\u001b[0m\u001b[0;34m(\u001b[0m\u001b[0my\u001b[0m\u001b[0;34m,\u001b[0m \u001b[0mnp\u001b[0m\u001b[0;34m.\u001b[0m\u001b[0mndarray\u001b[0m\u001b[0;34m)\u001b[0m\u001b[0;34m:\u001b[0m\u001b[0;34m\u001b[0m\u001b[0;34m\u001b[0m\u001b[0m\n\u001b[1;32m     18\u001b[0m         \u001b[0;32mraise\u001b[0m \u001b[0mValueError\u001b[0m\u001b[0;34m(\u001b[0m\u001b[0;34m'y must be a NumPy array. Found %s'\u001b[0m \u001b[0;34m%\u001b[0m \u001b[0mtype\u001b[0m\u001b[0;34m(\u001b[0m\u001b[0my\u001b[0m\u001b[0;34m)\u001b[0m\u001b[0;34m)\u001b[0m\u001b[0;34m\u001b[0m\u001b[0;34m\u001b[0m\u001b[0m\n",
      "\u001b[0;31mValueError\u001b[0m: X must be a NumPy array. Found <class 'pandas.core.series.Series'>"
     ]
    }
   ],
   "source": [
    "plot_decision_regions(y_test, y_pred, clf=neighbors.KNeighborsClassifier(n_neighbors=113), legend=2)"
   ]
  },
  {
   "cell_type": "code",
   "execution_count": 303,
   "metadata": {},
   "outputs": [],
   "source": [
    "def knn_comparison(data, k):\n",
    "    x = nona_clean_dataset[['HUNVFlag_x','HUNVFlag_y']].values\n",
    "    y = nona_clean_dataset['HUNVFlag_y'].astype(int).values\n",
    "    clf = neighbors.KNeighborsClassifier(n_neighbors=k)\n",
    "    clf.fit(x, y)\n",
    "   # Plotting decision region\n",
    "    plot_decision_regions(x, y, clf=clf, legend=2)\n",
    "# Adding axes annotations\n",
    "    plt.xlabel('x')\n",
    "    plt.ylabel('y')\n",
    "    plt.title(str(k))\n",
    "    plt.show()"
   ]
  },
  {
   "cell_type": "code",
   "execution_count": null,
   "metadata": {},
   "outputs": [],
   "source": []
  }
 ],
 "metadata": {
  "kernelspec": {
   "display_name": "Python 3",
   "language": "python",
   "name": "python3"
  },
  "language_info": {
   "codemirror_mode": {
    "name": "ipython",
    "version": 3
   },
   "file_extension": ".py",
   "mimetype": "text/x-python",
   "name": "python",
   "nbconvert_exporter": "python",
   "pygments_lexer": "ipython3",
   "version": "3.6.7"
  }
 },
 "nbformat": 4,
 "nbformat_minor": 2
}
