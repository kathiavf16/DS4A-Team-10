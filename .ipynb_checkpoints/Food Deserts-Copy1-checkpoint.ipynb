{
 "cells": [
  {
   "cell_type": "markdown",
   "metadata": {},
   "source": [
    "**TEAM 10**"
   ]
  },
  {
   "cell_type": "code",
   "execution_count": 7,
   "metadata": {},
   "outputs": [],
   "source": [
    "%matplotlib inline \n",
    "\n",
    "import json\n",
    "# import requests\n",
    "#from bs4 import BeautifulSoup\n",
    "import pandas as pd\n",
    "import matplotlib.pyplot as plt\n",
    "import seaborn as sns\n",
    "import numpy as np\n",
    "import seaborn as sns \n",
    "import scipy.stats as stats\n",
    "#import shapefile as shp\n",
    "import geopandas as gpd\n",
    "import statsmodels.api as sm\n",
    "\n",
    "import warnings\n",
    "warnings.filterwarnings('ignore')"
   ]
  },
  {
   "cell_type": "markdown",
   "metadata": {},
   "source": [
    "## USDA Dataset"
   ]
  },
  {
   "cell_type": "markdown",
   "metadata": {},
   "source": [
    "**Dataset Details:**\n",
    "\n",
    "- Has all the food deserts in the US\n",
    "\n",
    "\n",
    "**Methodology:** \n",
    "\n",
    "- 1.)Check column names \n",
    "- 2.)Filter for our desired area ( DC and Maryland) \n",
    "- 3.) Check for NULLS and NA's \n",
    "- 4.)Check the number of row and columns using shape function \n",
    "\n"
   ]
  },
  {
   "cell_type": "code",
   "execution_count": 9,
   "metadata": {},
   "outputs": [],
   "source": [
    "# read csv file accidents.csv \n",
    "df = pd.read_csv('fooddesert.csv')\n"
   ]
  },
  {
   "cell_type": "code",
   "execution_count": 11,
   "metadata": {},
   "outputs": [],
   "source": [
    "# 1.Check the column names \n",
    "list(df.columns)"
   ]
  },
  {
   "cell_type": "code",
   "execution_count": 10,
   "metadata": {},
   "outputs": [],
   "source": [
    "# 2. filter DC and Maryland data only \n",
    "df_dc = df[df['State'].isin(['District of Columbia', 'Maryland'])].set_index('CensusTract')"
   ]
  },
  {
   "cell_type": "code",
   "execution_count": null,
   "metadata": {},
   "outputs": [],
   "source": [
    "# 3. check for null vals\n",
    "df_dc.isnull().sum()"
   ]
  },
  {
   "cell_type": "code",
   "execution_count": null,
   "metadata": {},
   "outputs": [],
   "source": [
    "#4.Quick check \n",
    "df.head()"
   ]
  },
  {
   "cell_type": "code",
   "execution_count": 48,
   "metadata": {},
   "outputs": [
    {
     "data": {
      "text/plain": [
       "(72864, 147)"
      ]
     },
     "execution_count": 48,
     "metadata": {},
     "output_type": "execute_result"
    }
   ],
   "source": [
    "#4.Check shape \n",
    "df.shape"
   ]
  },
  {
   "cell_type": "code",
   "execution_count": 51,
   "metadata": {},
   "outputs": [
    {
     "data": {
      "text/plain": [
       "(179, 146)"
      ]
     },
     "execution_count": 51,
     "metadata": {},
     "output_type": "execute_result"
    }
   ],
   "source": [
    "# 4. shape of df post filtering \n",
    "df_dc.shape"
   ]
  },
  {
   "cell_type": "markdown",
   "metadata": {},
   "source": [
    "**Merging Datasets**\n",
    "\n",
    "- In order to get more insights more our dataset, a total population sum column was added to later to a proportional population index"
   ]
  },
  {
   "cell_type": "code",
   "execution_count": 55,
   "metadata": {},
   "outputs": [
    {
     "data": {
      "text/html": [
       "<div>\n",
       "<style scoped>\n",
       "    .dataframe tbody tr th:only-of-type {\n",
       "        vertical-align: middle;\n",
       "    }\n",
       "\n",
       "    .dataframe tbody tr th {\n",
       "        vertical-align: top;\n",
       "    }\n",
       "\n",
       "    .dataframe thead th {\n",
       "        text-align: right;\n",
       "    }\n",
       "</style>\n",
       "<table border=\"1\" class=\"dataframe\">\n",
       "  <thead>\n",
       "    <tr style=\"text-align: right;\">\n",
       "      <th></th>\n",
       "      <th>State</th>\n",
       "      <th>County</th>\n",
       "      <th>Urban</th>\n",
       "      <th>POP2010</th>\n",
       "      <th>OHU2010</th>\n",
       "      <th>GroupQuartersFlag</th>\n",
       "      <th>NUMGQTRS</th>\n",
       "      <th>PCTGQTRS</th>\n",
       "      <th>LILATracts_1And10</th>\n",
       "      <th>LILATracts_halfAnd10</th>\n",
       "      <th>...</th>\n",
       "      <th>TractHUNV</th>\n",
       "      <th>TractSNAP</th>\n",
       "      <th>TractWhite_y</th>\n",
       "      <th>TractBlack_y</th>\n",
       "      <th>TractAsian_y</th>\n",
       "      <th>TractNHOPI_y</th>\n",
       "      <th>TractAIAN_y</th>\n",
       "      <th>TractOMultir_y</th>\n",
       "      <th>TractHispanic_y</th>\n",
       "      <th>totalpop</th>\n",
       "    </tr>\n",
       "    <tr>\n",
       "      <th>CensusTract</th>\n",
       "      <th></th>\n",
       "      <th></th>\n",
       "      <th></th>\n",
       "      <th></th>\n",
       "      <th></th>\n",
       "      <th></th>\n",
       "      <th></th>\n",
       "      <th></th>\n",
       "      <th></th>\n",
       "      <th></th>\n",
       "      <th></th>\n",
       "      <th></th>\n",
       "      <th></th>\n",
       "      <th></th>\n",
       "      <th></th>\n",
       "      <th></th>\n",
       "      <th></th>\n",
       "      <th></th>\n",
       "      <th></th>\n",
       "      <th></th>\n",
       "      <th></th>\n",
       "    </tr>\n",
       "  </thead>\n",
       "  <tbody>\n",
       "    <tr>\n",
       "      <th>11001000100</th>\n",
       "      <td>District of Columbia</td>\n",
       "      <td>District of Columbia</td>\n",
       "      <td>1</td>\n",
       "      <td>4890</td>\n",
       "      <td>2686</td>\n",
       "      <td>0</td>\n",
       "      <td>24</td>\n",
       "      <td>0.004908</td>\n",
       "      <td>0</td>\n",
       "      <td>0</td>\n",
       "      <td>...</td>\n",
       "      <td>634</td>\n",
       "      <td>0</td>\n",
       "      <td>4444</td>\n",
       "      <td>105</td>\n",
       "      <td>201</td>\n",
       "      <td>2</td>\n",
       "      <td>9</td>\n",
       "      <td>129</td>\n",
       "      <td>296</td>\n",
       "      <td>5186</td>\n",
       "    </tr>\n",
       "    <tr>\n",
       "      <th>11001000201</th>\n",
       "      <td>District of Columbia</td>\n",
       "      <td>District of Columbia</td>\n",
       "      <td>1</td>\n",
       "      <td>3916</td>\n",
       "      <td>2</td>\n",
       "      <td>1</td>\n",
       "      <td>3908</td>\n",
       "      <td>0.997957</td>\n",
       "      <td>0</td>\n",
       "      <td>1</td>\n",
       "      <td>...</td>\n",
       "      <td>0</td>\n",
       "      <td>0</td>\n",
       "      <td>2940</td>\n",
       "      <td>259</td>\n",
       "      <td>482</td>\n",
       "      <td>5</td>\n",
       "      <td>7</td>\n",
       "      <td>223</td>\n",
       "      <td>275</td>\n",
       "      <td>4191</td>\n",
       "    </tr>\n",
       "    <tr>\n",
       "      <th>11001000202</th>\n",
       "      <td>District of Columbia</td>\n",
       "      <td>District of Columbia</td>\n",
       "      <td>1</td>\n",
       "      <td>5425</td>\n",
       "      <td>1933</td>\n",
       "      <td>0</td>\n",
       "      <td>1135</td>\n",
       "      <td>0.209217</td>\n",
       "      <td>0</td>\n",
       "      <td>0</td>\n",
       "      <td>...</td>\n",
       "      <td>332</td>\n",
       "      <td>0</td>\n",
       "      <td>4705</td>\n",
       "      <td>159</td>\n",
       "      <td>375</td>\n",
       "      <td>3</td>\n",
       "      <td>5</td>\n",
       "      <td>178</td>\n",
       "      <td>343</td>\n",
       "      <td>5768</td>\n",
       "    </tr>\n",
       "    <tr>\n",
       "      <th>11001000300</th>\n",
       "      <td>District of Columbia</td>\n",
       "      <td>District of Columbia</td>\n",
       "      <td>1</td>\n",
       "      <td>6233</td>\n",
       "      <td>2754</td>\n",
       "      <td>0</td>\n",
       "      <td>0</td>\n",
       "      <td>0.000000</td>\n",
       "      <td>0</td>\n",
       "      <td>0</td>\n",
       "      <td>...</td>\n",
       "      <td>408</td>\n",
       "      <td>23</td>\n",
       "      <td>5497</td>\n",
       "      <td>139</td>\n",
       "      <td>352</td>\n",
       "      <td>1</td>\n",
       "      <td>11</td>\n",
       "      <td>233</td>\n",
       "      <td>404</td>\n",
       "      <td>6637</td>\n",
       "    </tr>\n",
       "    <tr>\n",
       "      <th>11001000400</th>\n",
       "      <td>District of Columbia</td>\n",
       "      <td>District of Columbia</td>\n",
       "      <td>1</td>\n",
       "      <td>1455</td>\n",
       "      <td>636</td>\n",
       "      <td>0</td>\n",
       "      <td>6</td>\n",
       "      <td>0.004124</td>\n",
       "      <td>0</td>\n",
       "      <td>0</td>\n",
       "      <td>...</td>\n",
       "      <td>51</td>\n",
       "      <td>0</td>\n",
       "      <td>1247</td>\n",
       "      <td>50</td>\n",
       "      <td>103</td>\n",
       "      <td>1</td>\n",
       "      <td>2</td>\n",
       "      <td>53</td>\n",
       "      <td>123</td>\n",
       "      <td>1579</td>\n",
       "    </tr>\n",
       "  </tbody>\n",
       "</table>\n",
       "<p>5 rows × 154 columns</p>\n",
       "</div>"
      ],
      "text/plain": [
       "                            State                County  Urban  POP2010  \\\n",
       "CensusTract                                                               \n",
       "11001000100  District of Columbia  District of Columbia      1     4890   \n",
       "11001000201  District of Columbia  District of Columbia      1     3916   \n",
       "11001000202  District of Columbia  District of Columbia      1     5425   \n",
       "11001000300  District of Columbia  District of Columbia      1     6233   \n",
       "11001000400  District of Columbia  District of Columbia      1     1455   \n",
       "\n",
       "             OHU2010  GroupQuartersFlag  NUMGQTRS  PCTGQTRS  \\\n",
       "CensusTract                                                   \n",
       "11001000100     2686                  0        24  0.004908   \n",
       "11001000201        2                  1      3908  0.997957   \n",
       "11001000202     1933                  0      1135  0.209217   \n",
       "11001000300     2754                  0         0  0.000000   \n",
       "11001000400      636                  0         6  0.004124   \n",
       "\n",
       "             LILATracts_1And10  LILATracts_halfAnd10  ...  TractHUNV  \\\n",
       "CensusTract                                           ...              \n",
       "11001000100                  0                     0  ...        634   \n",
       "11001000201                  0                     1  ...          0   \n",
       "11001000202                  0                     0  ...        332   \n",
       "11001000300                  0                     0  ...        408   \n",
       "11001000400                  0                     0  ...         51   \n",
       "\n",
       "             TractSNAP  TractWhite_y  TractBlack_y  TractAsian_y  \\\n",
       "CensusTract                                                        \n",
       "11001000100          0          4444           105           201   \n",
       "11001000201          0          2940           259           482   \n",
       "11001000202          0          4705           159           375   \n",
       "11001000300         23          5497           139           352   \n",
       "11001000400          0          1247            50           103   \n",
       "\n",
       "             TractNHOPI_y  TractAIAN_y  TractOMultir_y  TractHispanic_y  \\\n",
       "CensusTract                                                               \n",
       "11001000100             2            9             129              296   \n",
       "11001000201             5            7             223              275   \n",
       "11001000202             3            5             178              343   \n",
       "11001000300             1           11             233              404   \n",
       "11001000400             1            2              53              123   \n",
       "\n",
       "             totalpop  \n",
       "CensusTract            \n",
       "11001000100      5186  \n",
       "11001000201      4191  \n",
       "11001000202      5768  \n",
       "11001000300      6637  \n",
       "11001000400      1579  \n",
       "\n",
       "[5 rows x 154 columns]"
      ]
     },
     "execution_count": 55,
     "metadata": {},
     "output_type": "execute_result"
    }
   ],
   "source": [
    "# create population variable, because the pop2010 var has discrepancies with totals \n",
    "df_all['totalpop'] = df_all['TractWhite_y'] + df_all['TractBlack_y'] + df_all['TractAsian_y'] + df_all['TractNHOPI_y'] + df_all['TractAIAN_y'] + df_all['TractOMultir_y'] + df_all['TractHispanic_y']\n",
    "df_all.head()"
   ]
  },
  {
   "cell_type": "markdown",
   "metadata": {},
   "source": [
    "**Next Steps**\n",
    "\n",
    "- EDA\n"
   ]
  },
  {
   "cell_type": "code",
   "execution_count": null,
   "metadata": {},
   "outputs": [],
   "source": []
  }
 ],
 "metadata": {
  "kernelspec": {
   "display_name": "Python 3",
   "language": "python",
   "name": "python3"
  },
  "language_info": {
   "codemirror_mode": {
    "name": "ipython",
    "version": 3
   },
   "file_extension": ".py",
   "mimetype": "text/x-python",
   "name": "python",
   "nbconvert_exporter": "python",
   "pygments_lexer": "ipython3",
   "version": "3.9.1"
  }
 },
 "nbformat": 4,
 "nbformat_minor": 2
}
