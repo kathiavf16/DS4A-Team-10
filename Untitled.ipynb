{
 "cells": [
  {
   "cell_type": "markdown",
   "metadata": {},
   "source": [
    "# Part 2: Census tract data 2010\n",
    "\n",
    "Now that we have the 2015 entropy indexes, we will calculate the 2010 entropy indexes based on the population estimates from census tract.\n",
    "\n",
    "Variables examples and list: https://api.census.gov/data/2019/acs/acs5/examples.html, https://api.census.gov/data/2019/acs/acs5/variables.html\n",
    "\n",
    "Datacamp tutorial: https://www.youtube.com/watch?v=l47HptzM7ao&ab_channel=DataCamp\n",
    "\n",
    "<b>State assignment:</b>\n",
    "* 1-12: Kathia\n",
    "* 13-25: Mariana \n",
    "* 26-38: Natalie\n",
    "* 39-51: Vianny"
   ]
  },
  {
   "cell_type": "code",
   "execution_count": 9,
   "metadata": {},
   "outputs": [],
   "source": [
    "import requests\n",
    "import pandas as pd\n",
    "\n",
    "HOST = 'https://api.census.gov/data'\n",
    "year = '2010'\n",
    "dataset = 'acs/acs5'\n",
    "dataset1 = 'pep/charage'\n",
    "base_url = '/'.join([HOST, year, dataset])\n",
    "\n",
    "# create empty dictionary to host variables\n",
    "predicates = {}\n",
    "\n",
    "# variables to request\n",
    "get_vars = ['GEO_ID', 'STATE', 'NAME',\n",
    "          'B01003_001E', 'B02001_001E', 'B02001_002E', 'B02001_003E',\n",
    "          'B02001_004E', 'B02001_005E', 'B02001_006E', 'B02001_007E', 'B02001_008E',\n",
    "          'B02001_009E', 'B02001_010E']\n",
    "\n",
    "get_vars1 = ['GEO_ID', 'STATE', 'NAME', \n",
    "             'B01003_001E', 'B02001_001E', 'B03001_003E', 'B03002_003E', 'B03002_004E',\n",
    "             'B03002_005E', 'B03002_006E', 'B03002_007E', 'B03002_008E', 'B03002_009E', \n",
    "             'B03002_010E', 'B03002_011E'\n",
    "]\n",
    "\n",
    "# populate dictionary\n",
    "predicates['get'] = ','.join(get_vars1)\n",
    "\n",
    "# set 'for' key to geographic level starting from tract\n",
    "predicates['for'] = 'tract:*'\n",
    "\n",
    "# and going into state \n",
    "predicates['in'] = 'state:02' # change your state here \n",
    "\n",
    "# execute requests\n",
    "r = requests.get(base_url, params = predicates)\n",
    "\n",
    "\n",
    "# inspect text attribute of request object\n",
    "#print(r.json()[0])\n",
    "\n",
    "# create user-friendly variables \n",
    "col_names = ['geo_id', 'state', 'NAME', 'est_total', 'race_total', 'race_hisp', \n",
    "             'race_white', 'race_black', \n",
    "             'race_aian', 'race_asian', 'race_nhopi', 'race_other', 'race_multi1', \n",
    "             'race_multi2', 'race_multi3', 'state', 'county', 'tract']\n",
    "\n",
    "# create dataframe from the json and column \n",
    "upd_statex = pd.DataFrame(columns = col_names, data = r.json()[1:]) # stop here "
   ]
  },
  {
   "cell_type": "code",
   "execution_count": null,
   "metadata": {},
   "outputs": [],
   "source": [
    "# stack dfs \n",
    "# stack code"
   ]
  },
  {
   "cell_type": "code",
   "execution_count": null,
   "metadata": {},
   "outputs": [],
   "source": [
    "# save csv\n",
    "final.to_csv('states_1_to_30.csv')"
   ]
  }
 ],
 "metadata": {
  "kernelspec": {
   "display_name": "Python 3",
   "language": "python",
   "name": "python3"
  },
  "language_info": {
   "codemirror_mode": {
    "name": "ipython",
    "version": 3
   },
   "file_extension": ".py",
   "mimetype": "text/x-python",
   "name": "python",
   "nbconvert_exporter": "python",
   "pygments_lexer": "ipython3",
   "version": "3.7.3"
  }
 },
 "nbformat": 4,
 "nbformat_minor": 2
}
