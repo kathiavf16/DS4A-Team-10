{
 "cells": [
  {
   "cell_type": "code",
   "execution_count": 1,
   "metadata": {},
   "outputs": [],
   "source": [
    "import pandas as pd\n",
    "import matplotlib.pyplot as plt\n",
    "import descartes\n",
    "import geopandas as gpd\n",
    "from shapely.geometry import Point, Polygon\n",
    "import csv\n",
    "import bokeh\n",
    "from bokeh.io import output_notebook, show\n",
    "from bokeh.plotting import figure\n",
    "import json"
   ]
  },
  {
   "cell_type": "markdown",
   "metadata": {},
   "source": [
    "# 1.0 Census Data"
   ]
  },
  {
   "cell_type": "markdown",
   "metadata": {},
   "source": [
    "## 1.1 Census Tract Shp File by year"
   ]
  },
  {
   "cell_type": "markdown",
   "metadata": {},
   "source": [
    "### 2019 Census tract"
   ]
  },
  {
   "cell_type": "code",
   "execution_count": 2,
   "metadata": {},
   "outputs": [],
   "source": [
    "#Census Tracts 2019\n",
    "Census=gpd.read_file('data/tl_2019_11_tract/tl_2019_11_tract.shp')"
   ]
  },
  {
   "cell_type": "code",
   "execution_count": 3,
   "metadata": {},
   "outputs": [],
   "source": [
    "# Census.head(5)"
   ]
  },
  {
   "cell_type": "markdown",
   "metadata": {},
   "source": [
    "## 1.2 Census -2018 Housing Demographics - 5 Year Estimate"
   ]
  },
  {
   "cell_type": "markdown",
   "metadata": {},
   "source": [
    "**Steps**\n",
    "\n",
    "- Download desire data by census tracts at https://data.census.gov/cedsci/\n",
    "\n",
    "- Pick Columns \n",
    "\n",
    "- Get the correct GEOID\n"
   ]
  },
  {
   "cell_type": "code",
   "execution_count": 68,
   "metadata": {},
   "outputs": [],
   "source": [
    "#Loading in desired dataset\n",
    "Demo_House=pd.read_csv('data/2018-5yearEstimate-Demographics_housing.csv').drop([0])\n",
    "# Demo_House"
   ]
  },
  {
   "cell_type": "markdown",
   "metadata": {},
   "source": [
    "#### Code Names:\n",
    "S1101_C01_002E : Avg household size\n",
    "\n",
    "S1101_C01_003E: Total Families\n",
    "\n",
    "S1101_C01_004E: Avg family size\n",
    "\n",
    "S1101_C01_005E: Age of own children under 18\n",
    "\n",
    "S1101_C01_012E: Householder living alone\n",
    "\n",
    "S1101_C01_001E : Total Households\n",
    "\n",
    "\n",
    "\n"
   ]
  },
  {
   "cell_type": "code",
   "execution_count": 5,
   "metadata": {},
   "outputs": [],
   "source": [
    "#picking codes\n",
    "Codes =['GEO_ID','S1101_C01_002E','S1101_C01_003E','S1101_C01_004E','S1101_C01_005E','S1101_C01_012E','S1101_C01_001E']\n"
   ]
  },
  {
   "cell_type": "code",
   "execution_count": 6,
   "metadata": {},
   "outputs": [],
   "source": [
    "#slicing only for columns needed \n",
    "Demo_House=Demo_House.loc[:,Codes]"
   ]
  },
  {
   "cell_type": "code",
   "execution_count": 7,
   "metadata": {},
   "outputs": [],
   "source": [
    "#Get GEOID to correct String\n",
    "Demo_House['GEO_ID']=Demo_House['GEO_ID'].apply(lambda x: int(str(x)[9:]))"
   ]
  },
  {
   "cell_type": "code",
   "execution_count": 69,
   "metadata": {},
   "outputs": [],
   "source": [
    "# Demo_House"
   ]
  }
 ],
 "metadata": {
  "kernelspec": {
   "display_name": "Python 3",
   "language": "python",
   "name": "python3"
  },
  "language_info": {
   "codemirror_mode": {
    "name": "ipython",
    "version": 3
   },
   "file_extension": ".py",
   "mimetype": "text/x-python",
   "name": "python",
   "nbconvert_exporter": "python",
   "pygments_lexer": "ipython3",
   "version": "3.9.1"
  }
 },
 "nbformat": 4,
 "nbformat_minor": 4
}
